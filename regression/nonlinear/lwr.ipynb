{
 "cells": [
  {
   "cell_type": "markdown",
   "metadata": {},
   "source": [
    "# locally weighted regression"
   ]
  },
  {
   "cell_type": "code",
   "execution_count": 1,
   "metadata": {},
   "outputs": [],
   "source": [
    "import matplotlib.pyplot as plt\n",
    "import pandas as pd\n",
    "import numpy as np"
   ]
  },
  {
   "cell_type": "code",
   "execution_count": 2,
   "metadata": {},
   "outputs": [],
   "source": [
    "df = pd.read_csv(\"nonlinear_regression.csv\")"
   ]
  },
  {
   "cell_type": "code",
   "execution_count": 3,
   "metadata": {},
   "outputs": [],
   "source": [
    "data = df.values"
   ]
  },
  {
   "cell_type": "code",
   "execution_count": 23,
   "metadata": {},
   "outputs": [],
   "source": [
    "dfx = data[:100,0]\n",
    "dfy = data[:100,1]"
   ]
  },
  {
   "cell_type": "code",
   "execution_count": 24,
   "metadata": {},
   "outputs": [
    {
     "name": "stdout",
     "output_type": "stream",
     "text": [
      "(100,) (100,) <class 'numpy.ndarray'>\n"
     ]
    }
   ],
   "source": [
    "print(dfx.shape,dfy.shape,type(dfx))"
   ]
  },
  {
   "cell_type": "code",
   "execution_count": 25,
   "metadata": {},
   "outputs": [
    {
     "name": "stdout",
     "output_type": "stream",
     "text": [
      "(100, 1) (100, 1) [['1']\n",
      " ['2']\n",
      " ['3']\n",
      " ['4']\n",
      " ['5']\n",
      " ['6']\n",
      " ['7']\n",
      " ['8']\n",
      " ['9']\n",
      " ['10']\n",
      " ['11']\n",
      " ['12']\n",
      " ['13']\n",
      " ['14']\n",
      " ['15']\n",
      " ['16']\n",
      " ['17']\n",
      " ['18']\n",
      " ['19']\n",
      " ['20']\n",
      " ['21']\n",
      " ['22']\n",
      " ['23']\n",
      " ['24']\n",
      " ['25']\n",
      " ['26']\n",
      " ['27']\n",
      " ['28']\n",
      " ['29']\n",
      " ['30']\n",
      " ['31']\n",
      " ['32']\n",
      " ['33']\n",
      " ['34']\n",
      " ['35']\n",
      " ['36']\n",
      " ['37']\n",
      " ['38']\n",
      " ['39']\n",
      " ['40']\n",
      " ['41']\n",
      " ['42']\n",
      " ['43']\n",
      " ['44']\n",
      " ['45']\n",
      " ['46']\n",
      " ['47']\n",
      " ['48']\n",
      " ['49']\n",
      " ['50']\n",
      " ['51']\n",
      " ['52']\n",
      " ['53']\n",
      " ['54']\n",
      " ['55']\n",
      " ['56']\n",
      " ['57']\n",
      " ['58']\n",
      " ['59']\n",
      " ['60']\n",
      " ['61']\n",
      " ['62']\n",
      " ['63']\n",
      " ['64']\n",
      " ['65']\n",
      " ['66']\n",
      " ['67']\n",
      " ['68']\n",
      " ['69']\n",
      " ['70']\n",
      " ['71']\n",
      " ['72']\n",
      " ['73']\n",
      " ['74']\n",
      " ['75']\n",
      " ['76']\n",
      " ['77']\n",
      " ['78']\n",
      " ['79']\n",
      " ['80']\n",
      " ['81']\n",
      " ['82']\n",
      " ['83']\n",
      " ['84']\n",
      " ['85']\n",
      " ['86']\n",
      " ['87']\n",
      " ['88']\n",
      " ['89']\n",
      " ['90']\n",
      " ['91']\n",
      " ['92']\n",
      " ['93']\n",
      " ['94']\n",
      " ['95']\n",
      " ['96']\n",
      " ['97']\n",
      " ['98']\n",
      " ['99']\n",
      " ['100']]\n"
     ]
    },
    {
     "ename": "ValueError",
     "evalue": "invalid literal for int() with base 10: '1\\xa0020'",
     "output_type": "error",
     "traceback": [
      "\u001b[0;31m---------------------------------------------------------------------------\u001b[0m",
      "\u001b[0;31mValueError\u001b[0m                                Traceback (most recent call last)",
      "\u001b[0;32m<ipython-input-25-cec131131746>\u001b[0m in \u001b[0;36m<module>\u001b[0;34m\u001b[0m\n\u001b[1;32m      3\u001b[0m \u001b[0mprint\u001b[0m\u001b[0;34m(\u001b[0m\u001b[0mdfx\u001b[0m\u001b[0;34m.\u001b[0m\u001b[0mshape\u001b[0m\u001b[0;34m,\u001b[0m\u001b[0mdfy\u001b[0m\u001b[0;34m.\u001b[0m\u001b[0mshape\u001b[0m\u001b[0;34m,\u001b[0m\u001b[0mdfx\u001b[0m\u001b[0;34m)\u001b[0m\u001b[0;34m\u001b[0m\u001b[0;34m\u001b[0m\u001b[0m\n\u001b[1;32m      4\u001b[0m \u001b[0mdfx\u001b[0m\u001b[0;34m=\u001b[0m\u001b[0mdfx\u001b[0m\u001b[0;34m.\u001b[0m\u001b[0mastype\u001b[0m\u001b[0;34m(\u001b[0m\u001b[0mint\u001b[0m\u001b[0;34m)\u001b[0m\u001b[0;34m\u001b[0m\u001b[0;34m\u001b[0m\u001b[0m\n\u001b[0;32m----> 5\u001b[0;31m \u001b[0mdfy\u001b[0m\u001b[0;34m=\u001b[0m\u001b[0mdfy\u001b[0m\u001b[0;34m.\u001b[0m\u001b[0mastype\u001b[0m\u001b[0;34m(\u001b[0m\u001b[0mint\u001b[0m\u001b[0;34m)\u001b[0m\u001b[0;34m\u001b[0m\u001b[0;34m\u001b[0m\u001b[0m\n\u001b[0m",
      "\u001b[0;31mValueError\u001b[0m: invalid literal for int() with base 10: '1\\xa0020'"
     ]
    }
   ],
   "source": [
    "dfx = dfx.reshape((-1,1))\n",
    "dfy = dfy.reshape((-1,1))\n",
    "print(dfx.shape,dfy.shape,dfx)\n",
    "dfx=dfx.astype(int)\n",
    "dfy=dfy.astype(int)"
   ]
  },
  {
   "cell_type": "code",
   "execution_count": 22,
   "metadata": {},
   "outputs": [
    {
     "name": "stderr",
     "output_type": "stream",
     "text": [
      "/home/nikki/anaconda3/lib/python3.7/site-packages/ipykernel_launcher.py:1: RuntimeWarning: invalid value encountered in true_divide\n",
      "  \"\"\"Entry point for launching an IPython kernel.\n"
     ]
    },
    {
     "data": {
      "text/plain": [
       "<matplotlib.collections.PathCollection at 0x7fb5f54d1518>"
      ]
     },
     "execution_count": 22,
     "metadata": {},
     "output_type": "execute_result"
    },
    {
     "data": {
      "image/png": "[encoded data removed]",
      "text/plain": [
       "<Figure size 432x288 with 1 Axes>"
      ]
     },
     "metadata": {
      "needs_background": "light"
     },
     "output_type": "display_data"
    }
   ],
   "source": [
    "dfx = (dfx-dfx.mean())/dfx.std()\n",
    "plt.scatter(dfx,dfy)"
   ]
  },
  {
   "cell_type": "markdown",
   "metadata": {},
   "source": [
    "### the above code is not working due to lack of dataset,we apply lwr in non linear regression "
   ]
  },
  {
   "cell_type": "code",
   "execution_count": 19,
   "metadata": {},
   "outputs": [],
   "source": [
    "# * in np array gives element wise mul nd u'll need to use np.dot to do matrix mul\n",
    "# * in np.mmat(np array) will do matrix mul\n",
    "\n",
    "def getw(x,X,tau):\n",
    "    #x is the query point where we need to find the slopes\n",
    "    m = X.shape[0]\n",
    "    w = np.mat(np.eye(m))\n",
    "    for i in range(m):\n",
    "        xi = X[i]\n",
    "        w[i,i] = np.exp(np.dot((xi-x),(xi-x).T)/(-2*tau*tau))\n",
    "    return w"
   ]
  },
  {
   "cell_type": "code",
   "execution_count": 20,
   "metadata": {},
   "outputs": [
    {
     "ename": "NameError",
     "evalue": "name 'X' is not defined",
     "output_type": "error",
     "traceback": [
      "\u001b[0;31m---------------------------------------------------------------------------\u001b[0m",
      "\u001b[0;31mNameError\u001b[0m                                 Traceback (most recent call last)",
      "\u001b[0;32m<ipython-input-20-ad6eee69c153>\u001b[0m in \u001b[0;36m<module>\u001b[0;34m\u001b[0m\n\u001b[0;32m----> 1\u001b[0;31m \u001b[0mX\u001b[0m \u001b[0;34m=\u001b[0m \u001b[0mnp\u001b[0m\u001b[0;34m.\u001b[0m\u001b[0mmat\u001b[0m\u001b[0;34m(\u001b[0m\u001b[0mX\u001b[0m\u001b[0;34m)\u001b[0m\u001b[0;34m\u001b[0m\u001b[0;34m\u001b[0m\u001b[0m\n\u001b[0m\u001b[1;32m      2\u001b[0m \u001b[0mw\u001b[0m \u001b[0;34m=\u001b[0m \u001b[0mgetw\u001b[0m\u001b[0;34m(\u001b[0m\u001b[0;34m-\u001b[0m\u001b[0;36m1\u001b[0m\u001b[0;34m,\u001b[0m\u001b[0mX\u001b[0m\u001b[0;34m,\u001b[0m\u001b[0;36m1\u001b[0m\u001b[0;34m)\u001b[0m\u001b[0;34m\u001b[0m\u001b[0;34m\u001b[0m\u001b[0m\n\u001b[1;32m      3\u001b[0m \u001b[0mprint\u001b[0m\u001b[0;34m(\u001b[0m\u001b[0mw\u001b[0m\u001b[0;34m)\u001b[0m\u001b[0;34m\u001b[0m\u001b[0;34m\u001b[0m\u001b[0m\n\u001b[1;32m      4\u001b[0m \u001b[0;34m\u001b[0m\u001b[0m\n\u001b[1;32m      5\u001b[0m \u001b[0;31m#w is the w matrix\u001b[0m\u001b[0;34m\u001b[0m\u001b[0;34m\u001b[0m\u001b[0;34m\u001b[0m\u001b[0m\n",
      "\u001b[0;31mNameError\u001b[0m: name 'X' is not defined"
     ]
    }
   ],
   "source": [
    "X = np.mat(X)\n",
    "w = getw(-1,X,1)\n",
    "print(w)\n",
    "\n",
    "#w is the w matrix"
   ]
  },
  {
   "cell_type": "code",
   "execution_count": null,
   "metadata": {},
   "outputs": [],
   "source": []
  }
 ],
 "metadata": {
  "kernelspec": {
   "display_name": "Python 3",
   "language": "python",
   "name": "python3"
  },
  "language_info": {
   "codemirror_mode": {
    "name": "ipython",
    "version": 3
   },
   "file_extension": ".py",
   "mimetype": "text/x-python",
   "name": "python",
   "nbconvert_exporter": "python",
   "pygments_lexer": "ipython3",
   "version": "3.7.3"
  }
 },
 "nbformat": 4,
 "nbformat_minor": 2
}
