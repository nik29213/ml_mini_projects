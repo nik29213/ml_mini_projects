{
 "cells": [
  {
   "cell_type": "code",
   "execution_count": 1,
   "metadata": {},
   "outputs": [],
   "source": [
    "import matplotlib.pyplot as plt\n",
    "import pandas as pd\n",
    "import numpy as np\n",
    "from sklearn.datasets import load_boston"
   ]
  },
  {
   "cell_type": "code",
   "execution_count": 2,
   "metadata": {},
   "outputs": [
    {
     "name": "stdout",
     "output_type": "stream",
     "text": [
      "(506, 13) (506,)\n"
     ]
    }
   ],
   "source": [
    "b = load_boston()\n",
    "x = b.data\n",
    "y = b.target\n",
    "print(x.shape,y.shape)"
   ]
  },
  {
   "cell_type": "code",
   "execution_count": 3,
   "metadata": {},
   "outputs": [],
   "source": [
    "x = (x - x.mean())/x.std()"
   ]
  },
  {
   "cell_type": "code",
   "execution_count": 4,
   "metadata": {},
   "outputs": [
    {
     "name": "stdout",
     "output_type": "stream",
     "text": [
      "(506, 14)\n"
     ]
    }
   ],
   "source": [
    "ones = np.ones((x.shape[0],1))\n",
    "X = np.hstack((ones,x))\n",
    "print(X.shape) \n",
    "Y = y"
   ]
  },
  {
   "cell_type": "code",
   "execution_count": 5,
   "metadata": {},
   "outputs": [
    {
     "name": "stdout",
     "output_type": "stream",
     "text": [
      "[ 1.         -0.48270736 -0.35874599 -0.46683694 -0.4827509  -0.47904453\n",
      " -0.43745466 -0.03357755 -0.45457423 -0.47586174  1.55644101 -0.37734672\n",
      "  2.25155744 -0.44844287]\n"
     ]
    }
   ],
   "source": [
    "print(X[0])"
   ]
  },
  {
   "cell_type": "markdown",
   "metadata": {},
   "source": [
    "# gradient descent algo for linear regression multivariate"
   ]
  },
  {
   "cell_type": "code",
   "execution_count": 6,
   "metadata": {},
   "outputs": [
    {
     "name": "stdout",
     "output_type": "stream",
     "text": [
      "[24.  21.6 34.7 33.4 36.2 28.7 22.9 27.1 16.5 18.9 15.  18.9 21.7 20.4\n",
      " 18.2 19.9 23.1 17.5 20.2 18.2 13.6 19.6 15.2 14.5 15.6 13.9 16.6 14.8\n",
      " 18.4 21.  12.7 14.5 13.2 13.1 13.5 18.9 20.  21.  24.7 30.8 34.9 26.6\n",
      " 25.3 24.7 21.2 19.3 20.  16.6 14.4 19.4 19.7 20.5 25.  23.4 18.9 35.4\n",
      " 24.7 31.6 23.3 19.6 18.7 16.  22.2 25.  33.  23.5 19.4 22.  17.4 20.9\n",
      " 24.2 21.7 22.8 23.4 24.1 21.4 20.  20.8 21.2 20.3 28.  23.9 24.8 22.9\n",
      " 23.9 26.6 22.5 22.2 23.6 28.7 22.6 22.  22.9 25.  20.6 28.4 21.4 38.7\n",
      " 43.8 33.2 27.5 26.5 18.6 19.3 20.1 19.5 19.5 20.4 19.8 19.4 21.7 22.8\n",
      " 18.8 18.7 18.5 18.3 21.2 19.2 20.4 19.3 22.  20.3 20.5 17.3 18.8 21.4\n",
      " 15.7 16.2 18.  14.3 19.2 19.6 23.  18.4 15.6 18.1 17.4 17.1 13.3 17.8\n",
      " 14.  14.4 13.4 15.6 11.8 13.8 15.6 14.6 17.8 15.4 21.5 19.6 15.3 19.4\n",
      " 17.  15.6 13.1 41.3 24.3 23.3 27.  50.  50.  50.  22.7 25.  50.  23.8\n",
      " 23.8 22.3 17.4 19.1 23.1 23.6 22.6 29.4 23.2 24.6 29.9 37.2 39.8 36.2\n",
      " 37.9 32.5 26.4 29.6 50.  32.  29.8 34.9 37.  30.5 36.4 31.1 29.1 50.\n",
      " 33.3 30.3 34.6 34.9 32.9 24.1 42.3 48.5 50.  22.6 24.4 22.5 24.4 20.\n",
      " 21.7 19.3 22.4 28.1 23.7 25.  23.3 28.7 21.5 23.  26.7 21.7 27.5 30.1\n",
      " 44.8 50.  37.6 31.6 46.7 31.5 24.3 31.7 41.7 48.3 29.  24.  25.1 31.5\n",
      " 23.7 23.3 22.  20.1 22.2 23.7 17.6 18.5 24.3 20.5 24.5 26.2 24.4 24.8\n",
      " 29.6 42.8 21.9 20.9 44.  50.  36.  30.1 33.8 43.1 48.8 31.  36.5 22.8\n",
      " 30.7 50.  43.5 20.7 21.1 25.2 24.4 35.2 32.4 32.  33.2 33.1 29.1 35.1\n",
      " 45.4 35.4 46.  50.  32.2 22.  20.1 23.2 22.3 24.8 28.5 37.3 27.9 23.9\n",
      " 21.7 28.6 27.1 20.3 22.5 29.  24.8 22.  26.4 33.1 36.1 28.4 33.4 28.2\n",
      " 22.8 20.3 16.1 22.1 19.4 21.6 23.8 16.2 17.8 19.8 23.1 21.  23.8 23.1\n",
      " 20.4 18.5 25.  24.6 23.  22.2 19.3 22.6 19.8 17.1 19.4 22.2 20.7 21.1\n",
      " 19.5 18.5 20.6 19.  18.7 32.7 16.5 23.9 31.2 17.5 17.2 23.1 24.5 26.6\n",
      " 22.9 24.1 18.6 30.1 18.2 20.6 17.8 21.7 22.7 22.6 25.  19.9 20.8 16.8\n",
      " 21.9 27.5 21.9 23.1 50.  50.  50.  50.  50.  13.8 13.8 15.  13.9 13.3\n",
      " 13.1 10.2 10.4 10.9 11.3 12.3  8.8  7.2 10.5  7.4 10.2 11.5 15.1 23.2\n",
      "  9.7 13.8 12.7 13.1 12.5  8.5  5.   6.3  5.6  7.2 12.1  8.3  8.5  5.\n",
      " 11.9 27.9 17.2 27.5 15.  17.2 17.9 16.3  7.   7.2  7.5 10.4  8.8  8.4\n",
      " 16.7 14.2 20.8 13.4 11.7  8.3 10.2 10.9 11.   9.5 14.5 14.1 16.1 14.3\n",
      " 11.7 13.4  9.6  8.7  8.4 12.8 10.5 17.1 18.4 15.4 10.8 11.8 14.9 12.6\n",
      " 14.1 13.  13.4 15.2 16.1 17.8 14.9 14.1 12.7 13.5 14.9 20.  16.4 17.7\n",
      " 19.5 20.2 21.4 19.9 19.  19.1 19.1 20.1 19.9 19.6 23.2 29.8 13.8 13.3\n",
      " 16.7 12.  14.6 21.4 23.  23.7 25.  21.8 20.6 21.2 19.1 20.6 15.2  7.\n",
      "  8.1 13.6 20.1 21.8 24.5 23.1 19.7 18.3 21.2 17.5 16.8 22.4 20.6 23.9\n",
      " 22.  11.9]\n"
     ]
    }
   ],
   "source": [
    "print(Y)"
   ]
  },
  {
   "cell_type": "code",
   "execution_count": 7,
   "metadata": {},
   "outputs": [
    {
     "name": "stdout",
     "output_type": "stream",
     "text": [
      "training.. 0\n",
      "training.. 1\n",
      "training.. 2\n",
      "training.. 3\n",
      "training.. 4\n",
      "[ 7695.84716846 -3480.82880256 -3184.64913859 -3077.30326989\n",
      " -3711.5457839  -3685.05326899 -3383.94775654    55.05267821\n",
      " -3524.66902693 -3132.95437913 19585.19944985 -2726.6368449\n",
      " 15177.59477708 -3011.37345327]\n",
      "[149813.16999999995, 3415589.6616294417, 99540997.04396144, 2918026818.249622, 85556668764.11836]\n"
     ]
    },
    {
     "data": {
      "text/plain": [
       "[<matplotlib.lines.Line2D at 0x7f8c34570be0>]"
      ]
     },
     "execution_count": 7,
     "metadata": {},
     "output_type": "execute_result"
    },
    {
     "data": {
      "image/png": "[encoded data removed]",
      "text/plain": [
       "<Figure size 432x288 with 1 Axes>"
      ]
     },
     "metadata": {
      "needs_background": "light"
     },
     "output_type": "display_data"
    }
   ],
   "source": [
    "pred = []\n",
    "pred_list = []\n",
    "def hypothesis(theta,x):\n",
    "    return np.dot(x,theta)\n",
    "\n",
    "def error(X,Y,theta):\n",
    "    tot_error = 0\n",
    "    m = X.shape[0]\n",
    "    for i in range(m):\n",
    "        pred.append(hypothesis(theta,X[i]))\n",
    "        tot_error+=(hypothesis(theta,X[i])-Y[i])**2\n",
    "    pred_list.append(pred)\n",
    "    return 0.5*tot_error\n",
    "\n",
    "def gradient(Y,X,theta):\n",
    "    grad= np.zeros((X.shape[1],))\n",
    "    m=X.shape[0]\n",
    "    for i in range(m):\n",
    "        grad[0]+=(hypothesis(theta,X[i])-Y[i])\n",
    "        for j in range(1,X.shape[1]):\n",
    "            grad[j]+=((hypothesis(theta,X[i])-Y[i])*X[i][j])\n",
    "    return grad\n",
    "\n",
    "def gradientDescent(X,Y,learning_rate,max_itr):\n",
    "    theta=np.zeros((X.shape[1],))    \n",
    "    error_list = []\n",
    "    theta_list = []\n",
    "    for i in range(max_itr):\n",
    "        print(\"training..- \"+str(i))\n",
    "        grad = gradient(Y,X,theta)\n",
    "        e = error(X,Y,theta)\n",
    "        error_list.append(e)\n",
    "        theta_list.append((theta))\n",
    "        for j in range(X.shape[1]):\n",
    "            theta[j]=theta[j]-learning_rate*grad[j]\n",
    "    return theta,error_list,theta_list\n",
    "\n",
    "theta,error_list,theta_list = gradientDescent(X,Y,learning_rate=0.001,max_itr=5)\n",
    "print(theta)\n",
    "print(error_list)\n",
    "plt.plot(error_list)\n"
   ]
  },
  {
   "cell_type": "code",
   "execution_count": 8,
   "metadata": {},
   "outputs": [
    {
     "data": {
      "text/plain": [
       "[<matplotlib.lines.Line2D at 0x7f8c34509e48>,\n",
       " <matplotlib.lines.Line2D at 0x7f8c34509fd0>,\n",
       " <matplotlib.lines.Line2D at 0x7f8c34513160>,\n",
       " <matplotlib.lines.Line2D at 0x7f8c345132b0>,\n",
       " <matplotlib.lines.Line2D at 0x7f8c34513400>,\n",
       " <matplotlib.lines.Line2D at 0x7f8c34513550>,\n",
       " <matplotlib.lines.Line2D at 0x7f8c345136a0>,\n",
       " <matplotlib.lines.Line2D at 0x7f8c345137f0>,\n",
       " <matplotlib.lines.Line2D at 0x7f8c34513940>,\n",
       " <matplotlib.lines.Line2D at 0x7f8c34513a90>,\n",
       " <matplotlib.lines.Line2D at 0x7f8c34513be0>,\n",
       " <matplotlib.lines.Line2D at 0x7f8c34513d30>,\n",
       " <matplotlib.lines.Line2D at 0x7f8c34513e80>,\n",
       " <matplotlib.lines.Line2D at 0x7f8c34513fd0>]"
      ]
     },
     "execution_count": 8,
     "metadata": {},
     "output_type": "execute_result"
    },
    {
     "data": {
      "image/png": "[encoded data removed]",
      "text/plain": [
       "<Figure size 432x288 with 1 Axes>"
      ]
     },
     "metadata": {
      "needs_background": "light"
     },
     "output_type": "display_data"
    }
   ],
   "source": [
    "plt.plot(X,hypothesis(theta,X),color=\"orange\")"
   ]
  },
  {
   "cell_type": "code",
   "execution_count": 9,
   "metadata": {},
   "outputs": [
    {
     "name": "stdout",
     "output_type": "stream",
     "text": [
      "[-2.         -1.11111111 -0.22222222  0.66666667  1.55555556  2.44444444\n",
      "  3.33333333  4.22222222  5.11111111  6.        ]\n"
     ]
    }
   ],
   "source": [
    "#testing the model\n",
    "xtest = np.linspace(-2,6,10)\n",
    "print(xtest)"
   ]
  }
 ],
 "metadata": {
  "kernelspec": {
   "display_name": "Python 3",
   "language": "python",
   "name": "python3"
  },
  "language_info": {
   "codemirror_mode": {
    "name": "ipython",
    "version": 3
   },
   "file_extension": ".py",
   "mimetype": "text/x-python",
   "name": "python",
   "nbconvert_exporter": "python",
   "pygments_lexer": "ipython3",
   "version": "3.7.3"
  }
 },
 "nbformat": 4,
 "nbformat_minor": 2
}
