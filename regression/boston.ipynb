{
 "cells": [
  {
   "cell_type": "code",
   "execution_count": 1,
   "metadata": {},
   "outputs": [],
   "source": [
    "import matplotlib.pyplot as plt\n",
    "import pandas as pd\n",
    "import numpy as np\n",
    "from sklearn.datasets import load_boston"
   ]
  },
  {
   "cell_type": "code",
   "execution_count": 2,
   "metadata": {},
   "outputs": [
    {
     "name": "stdout",
     "output_type": "stream",
     "text": [
      "(506, 13) (506,)\n"
     ]
    }
   ],
   "source": [
    "b = load_boston()\n",
    "X = b.data\n",
    "y = b.target\n",
    "print(X.shape,y.shape)"
   ]
  },
  {
   "cell_type": "code",
   "execution_count": 3,
   "metadata": {},
   "outputs": [],
   "source": [
    "df = pd.DataFrame(X)\n",
    "u = np.mean(X,axis=0)\n",
    "std = np.std(X,axis=0)\n",
    "X= (X-u)/std"
   ]
  },
  {
   "cell_type": "code",
   "execution_count": 4,
   "metadata": {},
   "outputs": [
    {
     "data": {
      "text/html": [
       "<div>\n",
       "<style scoped>\n",
       "    .dataframe tbody tr th:only-of-type {\n",
       "        vertical-align: middle;\n",
       "    }\n",
       "\n",
       "    .dataframe tbody tr th {\n",
       "        vertical-align: top;\n",
       "    }\n",
       "\n",
       "    .dataframe thead th {\n",
       "        text-align: right;\n",
       "    }\n",
       "</style>\n",
       "<table border=\"1\" class=\"dataframe\">\n",
       "  <thead>\n",
       "    <tr style=\"text-align: right;\">\n",
       "      <th></th>\n",
       "      <th>0</th>\n",
       "      <th>1</th>\n",
       "      <th>2</th>\n",
       "      <th>3</th>\n",
       "      <th>4</th>\n",
       "      <th>5</th>\n",
       "      <th>6</th>\n",
       "      <th>7</th>\n",
       "      <th>8</th>\n",
       "      <th>9</th>\n",
       "      <th>10</th>\n",
       "      <th>11</th>\n",
       "      <th>12</th>\n",
       "    </tr>\n",
       "  </thead>\n",
       "  <tbody>\n",
       "    <tr>\n",
       "      <th>0</th>\n",
       "      <td>-0.419782</td>\n",
       "      <td>0.284830</td>\n",
       "      <td>-1.287909</td>\n",
       "      <td>-0.272599</td>\n",
       "      <td>-0.144217</td>\n",
       "      <td>0.413672</td>\n",
       "      <td>-0.120013</td>\n",
       "      <td>0.140214</td>\n",
       "      <td>-0.982843</td>\n",
       "      <td>-0.666608</td>\n",
       "      <td>-1.459000</td>\n",
       "      <td>0.441052</td>\n",
       "      <td>-1.075562</td>\n",
       "    </tr>\n",
       "    <tr>\n",
       "      <th>1</th>\n",
       "      <td>-0.417339</td>\n",
       "      <td>-0.487722</td>\n",
       "      <td>-0.593381</td>\n",
       "      <td>-0.272599</td>\n",
       "      <td>-0.740262</td>\n",
       "      <td>0.194274</td>\n",
       "      <td>0.367166</td>\n",
       "      <td>0.557160</td>\n",
       "      <td>-0.867883</td>\n",
       "      <td>-0.987329</td>\n",
       "      <td>-0.303094</td>\n",
       "      <td>0.441052</td>\n",
       "      <td>-0.492439</td>\n",
       "    </tr>\n",
       "    <tr>\n",
       "      <th>2</th>\n",
       "      <td>-0.417342</td>\n",
       "      <td>-0.487722</td>\n",
       "      <td>-0.593381</td>\n",
       "      <td>-0.272599</td>\n",
       "      <td>-0.740262</td>\n",
       "      <td>1.282714</td>\n",
       "      <td>-0.265812</td>\n",
       "      <td>0.557160</td>\n",
       "      <td>-0.867883</td>\n",
       "      <td>-0.987329</td>\n",
       "      <td>-0.303094</td>\n",
       "      <td>0.396427</td>\n",
       "      <td>-1.208727</td>\n",
       "    </tr>\n",
       "    <tr>\n",
       "      <th>3</th>\n",
       "      <td>-0.416750</td>\n",
       "      <td>-0.487722</td>\n",
       "      <td>-1.306878</td>\n",
       "      <td>-0.272599</td>\n",
       "      <td>-0.835284</td>\n",
       "      <td>1.016303</td>\n",
       "      <td>-0.809889</td>\n",
       "      <td>1.077737</td>\n",
       "      <td>-0.752922</td>\n",
       "      <td>-1.106115</td>\n",
       "      <td>0.113032</td>\n",
       "      <td>0.416163</td>\n",
       "      <td>-1.361517</td>\n",
       "    </tr>\n",
       "    <tr>\n",
       "      <th>4</th>\n",
       "      <td>-0.412482</td>\n",
       "      <td>-0.487722</td>\n",
       "      <td>-1.306878</td>\n",
       "      <td>-0.272599</td>\n",
       "      <td>-0.835284</td>\n",
       "      <td>1.228577</td>\n",
       "      <td>-0.511180</td>\n",
       "      <td>1.077737</td>\n",
       "      <td>-0.752922</td>\n",
       "      <td>-1.106115</td>\n",
       "      <td>0.113032</td>\n",
       "      <td>0.441052</td>\n",
       "      <td>-1.026501</td>\n",
       "    </tr>\n",
       "  </tbody>\n",
       "</table>\n",
       "</div>"
      ],
      "text/plain": [
       "         0         1         2         3         4         5         6   \\\n",
       "0 -0.419782  0.284830 -1.287909 -0.272599 -0.144217  0.413672 -0.120013   \n",
       "1 -0.417339 -0.487722 -0.593381 -0.272599 -0.740262  0.194274  0.367166   \n",
       "2 -0.417342 -0.487722 -0.593381 -0.272599 -0.740262  1.282714 -0.265812   \n",
       "3 -0.416750 -0.487722 -1.306878 -0.272599 -0.835284  1.016303 -0.809889   \n",
       "4 -0.412482 -0.487722 -1.306878 -0.272599 -0.835284  1.228577 -0.511180   \n",
       "\n",
       "         7         8         9         10        11        12  \n",
       "0  0.140214 -0.982843 -0.666608 -1.459000  0.441052 -1.075562  \n",
       "1  0.557160 -0.867883 -0.987329 -0.303094  0.441052 -0.492439  \n",
       "2  0.557160 -0.867883 -0.987329 -0.303094  0.396427 -1.208727  \n",
       "3  1.077737 -0.752922 -1.106115  0.113032  0.416163 -1.361517  \n",
       "4  1.077737 -0.752922 -1.106115  0.113032  0.441052 -1.026501  "
      ]
     },
     "execution_count": 4,
     "metadata": {},
     "output_type": "execute_result"
    }
   ],
   "source": [
    "df = pd.DataFrame(X[:5,:])\n",
    "df.head()"
   ]
  },
  {
   "cell_type": "code",
   "execution_count": 5,
   "metadata": {},
   "outputs": [
    {
     "name": "stdout",
     "output_type": "stream",
     "text": [
      "(506, 14)\n"
     ]
    }
   ],
   "source": [
    "ones = np.ones((X.shape[0],1))\n",
    "X = np.hstack((ones,X))\n",
    "print(X.shape) \n",
    "Y = y"
   ]
  },
  {
   "cell_type": "code",
   "execution_count": null,
   "metadata": {},
   "outputs": [],
   "source": []
  },
  {
   "cell_type": "markdown",
   "metadata": {},
   "source": [
    "# gradient descent algo for linear regression multivariate"
   ]
  },
  {
   "cell_type": "code",
   "execution_count": 6,
   "metadata": {},
   "outputs": [],
   "source": [
    "#print(Y)"
   ]
  },
  {
   "cell_type": "code",
   "execution_count": 9,
   "metadata": {},
   "outputs": [
    {
     "name": "stdout",
     "output_type": "stream",
     "text": [
      "[ 7.4316371  -0.53940089  0.45621504 -0.59956587  0.47866297 -0.47703445\n",
      "  1.57710753 -0.3813406  -0.04916222 -0.33195241 -0.56501947 -0.97988071\n",
      "  0.5111999  -1.45565983]\n",
      "[592.1469169960473, 590.6782690271461, 589.2165305368787, 587.7616394538618, 586.3135344194942, 584.8721547793522, 583.437440574672, 582.0093325339504, 580.5877720646372, 579.1727012449373, 577.7640628157022, 576.3618001724417, 574.9658573573976, 573.5761790517521, 572.1927105679069, 570.8153978418642, 569.4441874256983, 568.0790264801251, 566.7198627671517, 565.366644642826, 564.0193210500681, 562.677841511592, 561.3421561229113, 560.0122155454375, 558.6879709996451, 557.3693742583422, 556.0563776400093, 554.7489340022177, 553.4469967351408, 552.1505197551296, 550.8594574983779, 549.5737649146557, 548.2933974611283, 547.018311096244, 545.7484622736963, 544.4838079364636, 543.2243055109202, 541.9699129010136, 540.7205884825242, 539.4762910973857, 538.2369800480747, 537.0026150920711, 535.7731564363921, 534.5485647321794, 533.3288010693661, 532.1138269713964, 530.9036043900185, 529.6980957001387, 528.4972636947356, 527.3010715798387, 526.109482969566, 524.9224618812269, 523.7399727304771, 522.5619803265403, 521.3884498674838, 520.21934693555, 519.0546374925503, 517.8942878753093, 516.7382647911701, 515.5865353135493, 514.4390668775485, 513.2958272756186, 512.1567846532786, 511.0219075048827, 509.8911646694467, 508.76452532651194, 507.6419589920747, 506.52343551455414, 505.40892507081475, 504.29839816223506, 503.1918256108263, 502.08917855539175, 500.99042844774806, 499.89554704896955, 498.8045064257028, 497.7172789465065, 496.63383727824925, 495.5541543825392, 494.47820351221117, 493.4059582078445, 492.33739229432666, 491.27247987746443, 490.21119534062717, 489.153513341438, 488.09940880850223, 487.04885693817516, 486.0018331913709, 484.95831329040783, 483.91827321589864, 482.88168920366314, 481.84853774170233, 480.818795567182, 479.79243966348054, 478.76944725724553, 477.74979581550974, 476.7334630428267, 475.72042687844777, 474.71066549353196, 473.70415728839083, 472.7008808897637, 471.7008151481315, 470.70393913505603, 469.7102321405589, 468.719673670526, 467.7322434441498, 466.7479213913972, 465.76668765050863, 464.7885225655344, 463.813406683891, 462.841320753955, 461.8722457226803, 460.90616273325094, 459.94305312275384, 458.9828984198904, 458.02568034270473, 457.07138079634797, 456.1199818708677, 455.17146583901854, 454.2258151541081, 453.2830124478653, 452.3430405283308, 451.40588237777945, 450.47152115066467, 449.53994017158567, 448.6111229332853, 447.6850530946676, 446.76171447883775, 445.8410910711747, 444.923167017415, 444.0079266217682, 443.09535434505517, 442.18543480286223, 441.2781527637281, 440.37349314734047, 439.4714410227668, 438.57198160669714, 437.6751002617114, 436.7807824945725, 435.889013954532, 434.9997804316593, 434.1130678551967, 433.2288622919242, 432.34714994455476, 431.46791715013734, 430.591150378493, 429.7168362306584, 428.8449614373527, 427.9755128574648, 427.10847747655583, 426.24384240537864, 425.3815948784244, 424.52172225247165, 423.6642120051658, 422.80905173361253, 421.9562291529822, 421.1057320951404, 420.2575485072892, 419.411666450625, 418.5680740990155, 417.7267597376912, 416.8877117619522, 416.05091867588976, 415.2163690911268, 414.38405172557066, 413.55395540218245, 412.7260690477595, 411.90038169173465, 411.0768824649898, 410.25556059868114, 409.436405423082, 408.61940636643874, 407.8045529538395, 406.9918348060969, 406.1812416386446, 405.3727632604487, 404.5663895729281, 403.76211056889224, 402.9599163314905, 402.1597970331733, 401.36174293466394, 400.5657443839506, 399.7717918152791, 398.97987574816875, 398.18998678643175, 397.40211561720855, 396.6162530100171, 395.83238981580644, 395.0505169660296, 394.27062547172085, 393.4927064225905, 392.7167509861235, 391.9427504066979, 391.1706960047035, 390.40057917568123, 389.63239138946506, 388.86612418933805, 388.1017691911987, 387.33931808273775, 386.578762622619, 385.82009463968234, 385.06330603213877, 384.3083887667961, 383.5553348782763, 382.8041364682483, 382.0547857046757, 381.3072748210654, 380.5615961157266, 379.81774195104623, 379.07570475276293, 378.3354770092548, 377.5970512708368, 376.8604201490656, 376.1255763160486, 375.39251250376867, 374.661221503412, 373.93169616470516, 373.2039293952593, 372.47791415992725, 371.7536434801574, 371.03111043336907, 370.31030815232384, 369.59122982451316, 368.8738686915457, 368.1582180485463, 367.44427124356525, 366.7320216769863, 366.0214628009483, 365.3125881187723, 364.60539118439624, 363.89986560181035, 363.196005024511, 362.49380315495, 361.79325374399554, 361.0943505904012, 360.3970875402769, 359.7014584865672, 359.00745736854094, 358.3150781712803, 357.6243149251792, 356.9351617054482, 356.24761263162236, 355.5616618670798, 354.87730361856154, 354.19453213569864, 353.5133417105471, 352.83372667712314, 352.15568141095207, 351.4792003286121, 350.8042778872918, 350.1309085843548, 349.45908695689764, 348.78880758132453, 348.12006507292364, 347.4528540854461, 346.78716931069386, 346.12300547810725, 345.4603573543665, 344.79921974298503, 344.1395874839214, 343.48145545318454, 342.8248185624504, 342.16967175868285, 341.51601002375355, 340.8638283740729, 340.2131218602241, 339.56388556659573, 338.91611461102764, 338.269804144454, 337.6249493505541, 336.9815454454079, 336.3395876771499, 335.6990713256354, 335.059991702107, 334.422344148861, 333.7861240389251, 333.1513267757343, 332.5179477928149, 331.8859825534673, 331.2554265504582, 330.62627530571183, 329.99852437000675, 329.3721693226766, 328.7472057713144, 328.1236293514778, 327.501435726403, 326.88062058671636, 326.2611796501536, 325.6431086612792, 325.0264033912118, 324.4110596373523, 323.7970732231123, 323.1844399976524, 322.5731558356125, 321.96321663685825, 321.3546183262215, 320.7473568532461, 320.14142819193887, 319.53682834052125, 318.9335533211834, 318.331599179842, 317.73096198590537, 317.1316378320294, 316.5336228338923, 315.9369131299579, 315.3415048812514, 314.7473942711309, 314.15457750506596, 313.5630508104198, 312.97281043622667, 312.3838526529825, 311.7961737524275, 311.20977004734135, 310.6246378713299, 310.0407735786248, 309.458173543879, 308.8768341619669, 308.2967518477844, 307.7179230360576, 307.1403441811449, 306.5640117568496, 305.988922256227, 305.4150721914042, 304.84245809338734, 304.2710765118861, 303.7009240151311, 303.13199718969497, 302.5642926403178, 301.9978069897318, 301.432536878492, 300.8684789648023, 300.305629924352, 299.7439864501457, 299.18354525234275, 298.624303058093, 298.06625661137633, 297.5094026728468, 296.9537380196734, 296.3992594453857, 295.8459637597222, 295.293847788479, 294.7429083733576, 294.19314237182135, 293.64454665694814, 293.09711811728323, 292.5508536567004, 292.00575019425935, 291.46180466406537, 290.91901401513496, 290.37737521125433, 289.83688523085056, 289.29754106685454, 288.7593397265709, 288.22227823154736, 287.6863536174485, 287.15156293392516, 286.6179032444921, 286.0853716264012, 285.55396517052105, 285.02368098121417, 284.49451617621816, 283.9664678865255, 283.4395332562685, 282.913709442602, 282.38899361558947, 281.8653829580895, 281.3428746656437, 280.8214659463671, 280.30115402083703, 279.7819361219871, 279.26380949499827, 278.74677139719427, 278.23081909793825, 277.71594987852535, 277.20216103208634, 276.68944986348174, 276.1778136892046, 275.6672498372812, 275.15775564717325, 274.64932846968173, 274.1419656668512, 273.6356646118765, 273.13042268900665, 272.6262372934564, 272.1231058313129, 271.62102571944575, 271.11999438541824, 270.6200092673995, 270.1210678140764, 269.62316748456846, 269.12630574834157, 268.6304800851256, 268.13568798482856, 267.6419269474561, 267.14919448302976, 266.6574881115065, 266.1668053626983, 265.67714377619365, 265.1885009012809, 264.7008742968697, 264.2142615314158]\n"
     ]
    },
    {
     "data": {
      "text/plain": [
       "[<matplotlib.lines.Line2D at 0x7fb6a3746be0>]"
      ]
     },
     "execution_count": 9,
     "metadata": {},
     "output_type": "execute_result"
    },
    {
     "data": {
      "image/png": "[encoded data removed]",
      "text/plain": [
       "<Figure size 432x288 with 1 Axes>"
      ]
     },
     "metadata": {
      "needs_background": "light"
     },
     "output_type": "display_data"
    }
   ],
   "source": [
    "def hypothesis(theta,x):\n",
    "    return np.dot(x,theta)\n",
    "\n",
    "def error(X,Y,theta):\n",
    "    tot_error = 0\n",
    "    m = X.shape[0]\n",
    "    for i in range(m):\n",
    "        tot_error+=(Y[i]-hypothesis(theta,X[i]))**2\n",
    "    return tot_error/m\n",
    "\n",
    "def gradient(Y,X,theta):\n",
    "    m,n=X.shape\n",
    "    grad= np.zeros((n,))\n",
    "    for j in range(n):\n",
    "        for i in range(m):\n",
    "            y_ = hypothesis(theta,X[i])\n",
    "            grad[j]+=(y_-Y[i])*X[i][j]\n",
    "    return grad/m\n",
    "\n",
    "def gradientDescent(X,Y,learning_rate,max_itr):\n",
    "    m,n = X.shape\n",
    "    theta=np.zeros((n,))    \n",
    "    error_list = []\n",
    "    for i in range(max_itr):\n",
    "        grad = gradient(Y,X,theta)\n",
    "        e = error(X,Y,theta)\n",
    "        error_list.append(e)\n",
    "        for j in range(n):\n",
    "            theta[j]=theta[j]-learning_rate*grad[j]\n",
    "    return theta,error_list\n",
    "\n",
    "theta,error_list = gradientDescent(X,Y,learning_rate=0.001,max_itr=400)\n",
    "print(theta)\n",
    "print(error_list)\n",
    "plt.plot(error_list)\n"
   ]
  },
  {
   "cell_type": "code",
   "execution_count": 8,
   "metadata": {},
   "outputs": [
    {
     "name": "stdout",
     "output_type": "stream",
     "text": [
      "13.291248363161449\n",
      "10.880695862937998\n",
      "9.53650728321455\n",
      "9.389077485536873\n",
      "8.282632846417682\n",
      "7.55437559473318\n",
      "7.073477276551633\n",
      "6.005442834574843\n",
      "2.6527654726154672\n",
      "6.010321029375293\n"
     ]
    }
   ],
   "source": [
    "for i in range(40,50):\n",
    "    print(hypothesis(theta,X[i]))"
   ]
  },
  {
   "cell_type": "code",
   "execution_count": null,
   "metadata": {},
   "outputs": [],
   "source": []
  },
  {
   "cell_type": "code",
   "execution_count": null,
   "metadata": {},
   "outputs": [],
   "source": []
  }
 ],
 "metadata": {
  "kernelspec": {
   "display_name": "Python 3",
   "language": "python",
   "name": "python3"
  },
  "language_info": {
   "codemirror_mode": {
    "name": "ipython",
    "version": 3
   },
   "file_extension": ".py",
   "mimetype": "text/x-python",
   "name": "python",
   "nbconvert_exporter": "python",
   "pygments_lexer": "ipython3",
   "version": "3.7.3"
  }
 },
 "nbformat": 4,
 "nbformat_minor": 2
}
